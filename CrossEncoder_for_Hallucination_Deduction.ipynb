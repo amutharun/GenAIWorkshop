{
  "nbformat": 4,
  "nbformat_minor": 0,
  "metadata": {
    "colab": {
      "provenance": [],
      "authorship_tag": "ABX9TyPEfJS8DlY6abGez37s5bVB",
      "include_colab_link": true
    },
    "kernelspec": {
      "name": "python3",
      "display_name": "Python 3"
    },
    "language_info": {
      "name": "python"
    }
  },
  "cells": [
    {
      "cell_type": "markdown",
      "metadata": {
        "id": "view-in-github",
        "colab_type": "text"
      },
      "source": [
        "<a href=\"https://colab.research.google.com/github/amutharun/GenAIWorkshop/blob/main/CrossEncoder_for_Hallucination_Deduction.ipynb\" target=\"_parent\"><img src=\"https://colab.research.google.com/assets/colab-badge.svg\" alt=\"Open In Colab\"/></a>"
      ]
    },
    {
      "cell_type": "markdown",
      "source": [
        "### **Cross-Encoder for Hallucination Detection**\n"
      ],
      "metadata": {
        "id": "mhqxuCjNO6NS"
      }
    },
    {
      "source": [
        "!pip install sentence_transformers"
      ],
      "cell_type": "code",
      "metadata": {
        "id": "7-uzlytuJuwe"
      },
      "execution_count": null,
      "outputs": []
    },
    {
      "cell_type": "code",
      "execution_count": null,
      "metadata": {
        "id": "sCNjC-qDJdf3"
      },
      "outputs": [],
      "source": [
        "from sentence_transformers import CrossEncoder"
      ]
    },
    {
      "cell_type": "code",
      "source": [
        "model = CrossEncoder('vectara/hallucination_evaluation_model')"
      ],
      "metadata": {
        "id": "xmsxjzLMJgHA"
      },
      "execution_count": null,
      "outputs": []
    },
    {
      "cell_type": "markdown",
      "source": [
        "This model was trained using SentenceTransformers Cross-Encoder class.\n",
        "\n",
        "* The model outputs a probabilitity from 0 to 1\n",
        "* 0 being a hallucination and 1 being factually consistent.\n",
        "\n",
        "* The predictions can be thresholded at 0.5 to predict whether a document is consistent with its source."
      ],
      "metadata": {
        "id": "gaVg2ZErPHru"
      }
    },
    {
      "cell_type": "code",
      "source": [
        "def get_hallucination_score(model,sentence1, sentence2):\n",
        "  score = model.predict(sentences=[sentence1, sentence2])\n",
        "  print(f\"Hallucination Score \\nSentence 1: '{sentence1}'\\nSentence 2: '{sentence2}'\\nScore: {score}\")"
      ],
      "metadata": {
        "id": "RYIUIEZ1Jk0g"
      },
      "execution_count": null,
      "outputs": []
    },
    {
      "cell_type": "code",
      "source": [
        "get_hallucination_score(model,\"I love apples\",\"Apples are tasty and I like eating them\")"
      ],
      "metadata": {
        "colab": {
          "base_uri": "https://localhost:8080/"
        },
        "id": "lodeFFFELmEx",
        "outputId": "c7240fff-047f-41a8-a014-ae1f389036da"
      },
      "execution_count": null,
      "outputs": [
        {
          "output_type": "stream",
          "name": "stdout",
          "text": [
            "Hallucination Score \n",
            "Sentence 1: 'I love apples'\n",
            "Sentence 2: 'Apples are tasty and I like eating them'\n",
            "Score: 0.9832478761672974\n"
          ]
        }
      ]
    },
    {
      "cell_type": "code",
      "source": [
        "get_hallucination_score(model,\"A man walks into a bar and buys a drink\", \"A bloke swigs alcohol at a pub\")"
      ],
      "metadata": {
        "colab": {
          "base_uri": "https://localhost:8080/"
        },
        "id": "u1vzq_ywMJ8g",
        "outputId": "efd3192e-2d27-4587-b94b-dc457648623c"
      },
      "execution_count": null,
      "outputs": [
        {
          "output_type": "stream",
          "name": "stdout",
          "text": [
            "Hallucination Score \n",
            "Sentence 1: 'A man walks into a bar and buys a drink'\n",
            "Sentence 2: 'A bloke swigs alcohol at a pub'\n",
            "Score: 0.6105157732963562\n"
          ]
        }
      ]
    },
    {
      "cell_type": "code",
      "source": [
        "# Hallucination\n",
        "get_hallucination_score(model,\"Ramesh was a fan of Suresh\", \"Suresh was a fan of Ramesh\")"
      ],
      "metadata": {
        "colab": {
          "base_uri": "https://localhost:8080/"
        },
        "id": "28w9Kuq0NDLY",
        "outputId": "7b956ec9-0b2d-4892-d2e1-8419338d0799"
      },
      "execution_count": null,
      "outputs": [
        {
          "output_type": "stream",
          "name": "stdout",
          "text": [
            "Hallucination Score \n",
            "Sentence 1: 'Ramesh was a fan of Suresh'\n",
            "Sentence 2: 'Suresh was a fan of Ramesh'\n",
            "Score: 0.00019717187387868762\n"
          ]
        }
      ]
    },
    {
      "cell_type": "code",
      "source": [
        "get_hallucination_score(model,\"A man with blond-hair, and a brown shirt drinking out of a public water fountain.\", \"A blond man wearing a brown shirt is reading a book.\")"
      ],
      "metadata": {
        "colab": {
          "base_uri": "https://localhost:8080/"
        },
        "id": "i_kLFVyENgTI",
        "outputId": "c564b897-fc63-410f-85e5-194f31472634"
      },
      "execution_count": null,
      "outputs": [
        {
          "output_type": "stream",
          "name": "stdout",
          "text": [
            "Hallucination Score \n",
            "Sentence 1: 'A man with blond-hair, and a brown shirt drinking out of a public water fountain.'\n",
            "Sentence 2: 'A blond man wearing a brown shirt is reading a book.'\n",
            "Score: 0.0014126981841400266\n"
          ]
        }
      ]
    },
    {
      "cell_type": "code",
      "source": [
        "get_hallucination_score(model,\n",
        "                        \"A man with blond-hair, and a brown shirt drinking out of a public water fountain.\",\n",
        "                        \"A blond man wearing a brown shirt is drinking water in public\")"
      ],
      "metadata": {
        "colab": {
          "base_uri": "https://localhost:8080/"
        },
        "id": "VIu6mdSSPfN2",
        "outputId": "b3a84f29-0c17-4c61-98b3-0378a9d2dd22"
      },
      "execution_count": null,
      "outputs": [
        {
          "output_type": "stream",
          "name": "stdout",
          "text": [
            "Hallucination Score \n",
            "Sentence 1: 'A man with blond-hair, and a brown shirt drinking out of a public water fountain.'\n",
            "Sentence 2: 'A blond man wearing a brown shirt is drinking water in public'\n",
            "Score: 0.9944663643836975\n"
          ]
        }
      ]
    },
    {
      "cell_type": "code",
      "source": [
        "get_hallucination_score(model,\n",
        "                        \"A boy is jumping on skateboard in the middle of a red bridge.\",\n",
        "                        \"The boy skates on middle of a red bridge\")"
      ],
      "metadata": {
        "colab": {
          "base_uri": "https://localhost:8080/"
        },
        "id": "9RzmRfV8Ptq2",
        "outputId": "3a7d1012-8cff-464f-b29a-599dd5cc7874"
      },
      "execution_count": null,
      "outputs": [
        {
          "output_type": "stream",
          "name": "stdout",
          "text": [
            "Hallucination Score \n",
            "Sentence 1: 'A boy is jumping on skateboard in the middle of a red bridge.'\n",
            "Sentence 2: 'The boy skates on middle of a red bridge'\n",
            "Score: 0.9916768074035645\n"
          ]
        }
      ]
    },
    {
      "cell_type": "markdown",
      "source": [
        "Further reference : https://huggingface.co/vectara/hallucination_evaluation_model"
      ],
      "metadata": {
        "id": "CTp_bqWgQr_a"
      }
    }
  ]
}