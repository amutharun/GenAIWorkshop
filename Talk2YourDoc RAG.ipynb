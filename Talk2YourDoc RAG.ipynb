{
  "nbformat": 4,
  "nbformat_minor": 0,
  "metadata": {
    "colab": {
      "provenance": [],
      "authorship_tag": "ABX9TyMqZz00+IfmhnlQ6+J4WbPV",
      "include_colab_link": true
    },
    "kernelspec": {
      "name": "python3",
      "display_name": "Python 3"
    },
    "language_info": {
      "name": "python"
    }
  },
  "cells": [
    {
      "cell_type": "markdown",
      "metadata": {
        "id": "view-in-github",
        "colab_type": "text"
      },
      "source": [
        "<a href=\"https://colab.research.google.com/github/amutharun/GenAIWorkshop/blob/main/Talk2YourDoc%20RAG.ipynb\" target=\"_parent\"><img src=\"https://colab.research.google.com/assets/colab-badge.svg\" alt=\"Open In Colab\"/></a>"
      ]
    },
    {
      "cell_type": "markdown",
      "source": [
        "# Install Packages"
      ],
      "metadata": {
        "id": "c7-9QAuk39wW"
      }
    },
    {
      "cell_type": "code",
      "execution_count": null,
      "metadata": {
        "id": "gShQkPYU1nP7"
      },
      "outputs": [],
      "source": [
        "!pip install pypdf==3.12.0 langchain==0.0.311 sentence-transformers==2.2.2 chromadb==0.3.26 openai==0.27.8 tiktoken==0.4.0"
      ]
    },
    {
      "cell_type": "code",
      "source": [
        "!pip install --upgrade python-dotenv"
      ],
      "metadata": {
        "colab": {
          "base_uri": "https://localhost:8080/"
        },
        "id": "oG618KqT2ZeY",
        "outputId": "e7b7fcad-e0b7-489c-e294-cdec8ac8ac66"
      },
      "execution_count": 2,
      "outputs": [
        {
          "output_type": "stream",
          "name": "stdout",
          "text": [
            "Requirement already satisfied: python-dotenv in /usr/local/lib/python3.10/dist-packages (1.0.0)\n"
          ]
        }
      ]
    },
    {
      "cell_type": "markdown",
      "source": [
        "# Load env vars"
      ],
      "metadata": {
        "id": "0BH00zli4CUv"
      }
    },
    {
      "cell_type": "code",
      "source": [
        "# load env vars\n",
        "from dotenv import load_dotenv\n",
        "import os\n",
        "import openai\n",
        "load_dotenv()\n",
        "\n",
        "# if directly using open ai api key\n",
        "# openai.api_key = os.getenv(\"OPENAI_API_KEY\")\n",
        "# openai.api_type = \"openai\"\n",
        "\n",
        "# if we are using the azure open ai deployed model\n",
        "openai.api_type = \"azure\"\n",
        "openai.api_version = os.getenv(\"AZURE_API_VERSION\"),\n",
        "openai.api_base = os.getenv(\"AZURE_OPENAI_ENDPOINT\")  # Your Azure OpenAI resource's endpoint value.\n",
        "openai.api_key = os.getenv(\"AZURE_OPENAI_API_KEY\")"
      ],
      "metadata": {
        "id": "0ME3kXFP2dRm"
      },
      "execution_count": 3,
      "outputs": []
    },
    {
      "cell_type": "markdown",
      "source": [
        "# Setup Models (embedding, GPTs)"
      ],
      "metadata": {
        "id": "7wSSG2Po4J1S"
      }
    },
    {
      "cell_type": "code",
      "source": [
        "import warnings\n",
        "warnings.filterwarnings(\"ignore\")"
      ],
      "metadata": {
        "id": "EbkAjkgS-LpA"
      },
      "execution_count": 8,
      "outputs": []
    },
    {
      "cell_type": "code",
      "source": [
        "from langchain.chat_models import AzureChatOpenAI\n",
        "from langchain.embeddings.openai import OpenAIEmbeddings\n",
        "\n",
        "# Set the names of model. Use deployed model names if Azure Open AI. Else use direct model names if using open ai\n",
        "embedding_model =  \"EA-ADAembedding\" # Deployment name of \"text-embedding-ada-002\"\n",
        "gpt4turbo_model = \"EAGPT4\" # \"gpt-4-turbo-preview\"\n",
        "chatgpt_model = \"EAGPT35\" # \"gpt-3.5-turbo-1106\"\n",
        "\n",
        "openai_embeddings = OpenAIEmbeddings(deployment=\"EA-ADAembedding\",\n",
        "                              openai_api_key=os.getenv(\"AZURE_OPENAI_API_KEY\"),\n",
        "                              openai_api_base=os.getenv(\"AZURE_OPENAI_ENDPOINT\"),\n",
        "                              openai_api_version=os.getenv(\"AZURE_API_VERSION\"),\n",
        "                              openai_api_type=\"azure\")\n",
        "\n",
        "gpt4_turbo_llm = AzureChatOpenAI(\n",
        "        openai_api_base=os.getenv(\"AZURE_OPENAI_ENDPOINT\"),\n",
        "        openai_api_version=os.getenv(\"AZURE_API_VERSION\"),\n",
        "        deployment_name=gpt4turbo_model,\n",
        "        openai_api_key=os.getenv(\"AZURE_OPENAI_API_KEY\"),\n",
        "        openai_api_type=\"azure\",\n",
        "        temperature=0.0\n",
        "    )\n",
        "\n",
        "chatgpt_llm = AzureChatOpenAI(\n",
        "        openai_api_base=os.getenv(\"AZURE_OPENAI_ENDPOINT\"),\n",
        "        openai_api_version=os.getenv(\"AZURE_API_VERSION\"),\n",
        "        deployment_name=chatgpt_model,\n",
        "        openai_api_key=os.getenv(\"AZURE_OPENAI_API_KEY\"),\n",
        "        openai_api_type=\"azure\",\n",
        "        temperature=0.0\n",
        "    )"
      ],
      "metadata": {
        "id": "snbB2gWi3BFe"
      },
      "execution_count": 5,
      "outputs": []
    },
    {
      "cell_type": "markdown",
      "source": [
        "### Quick Check if the LLMs work"
      ],
      "metadata": {
        "id": "fwF0tjDV4WSk"
      }
    },
    {
      "cell_type": "code",
      "source": [
        "gpt4_turbo_llm.invoke(\"explain a computer in a sarcastic way in 1 line\")"
      ],
      "metadata": {
        "colab": {
          "base_uri": "https://localhost:8080/"
        },
        "id": "h7_BuP3oc9um",
        "outputId": "5ad105b8-7667-43cb-d6bc-9252210d3e2f"
      },
      "execution_count": 6,
      "outputs": [
        {
          "output_type": "execute_result",
          "data": {
            "text/plain": [
              "AIMessage(content=\"Oh, it's just a magical box that crashes whenever you need it the most.\")"
            ]
          },
          "metadata": {},
          "execution_count": 6
        }
      ]
    },
    {
      "cell_type": "code",
      "source": [
        "chatgpt_llm.invoke(\"explain NLP in a sarcastic way in 1 line\")"
      ],
      "metadata": {
        "colab": {
          "base_uri": "https://localhost:8080/"
        },
        "id": "mIUg9ZTOd4pQ",
        "outputId": "d323433f-5342-4a56-c084-258018297734"
      },
      "execution_count": 7,
      "outputs": [
        {
          "output_type": "execute_result",
          "data": {
            "text/plain": [
              "AIMessage(content=\"Oh, NLP? It's just a fancy way for computers to pretend they understand human language, but we all know they're clueless.\")"
            ]
          },
          "metadata": {},
          "execution_count": 7
        }
      ]
    },
    {
      "cell_type": "markdown",
      "source": [
        "# Document Loading and Chunking"
      ],
      "metadata": {
        "id": "UOH9I7u64c7H"
      }
    },
    {
      "cell_type": "markdown",
      "source": [
        "## Document Loading"
      ],
      "metadata": {
        "id": "gBLslFkG6SbN"
      }
    },
    {
      "cell_type": "code",
      "source": [
        "from langchain.document_loaders import PyPDFLoader"
      ],
      "metadata": {
        "id": "JAtjSJRQ24OR"
      },
      "execution_count": 18,
      "outputs": []
    },
    {
      "cell_type": "code",
      "source": [
        "PDF_PATH = \"/content/Rich-Dad-Poor-Dad.pdf\"\n",
        "\n",
        "# create loader\n",
        "loader = PyPDFLoader(PDF_PATH)\n",
        "book = loader.load()"
      ],
      "metadata": {
        "id": "vtUSswVN4xRh"
      },
      "execution_count": 12,
      "outputs": []
    },
    {
      "cell_type": "code",
      "source": [
        "book"
      ],
      "metadata": {
        "id": "k30jv1Ys5w0i"
      },
      "execution_count": null,
      "outputs": []
    },
    {
      "cell_type": "markdown",
      "source": [
        "## **Document Splitting**\n"
      ],
      "metadata": {
        "id": "5R6JWv8T_xVv"
      }
    },
    {
      "cell_type": "markdown",
      "source": [
        "**Can we use the whole book as is on ChatGPT?**\n",
        "* When working with a whole book, copying and pasting it into chatGPT won't work due to the limitations of LLMs in processing large amounts of text at once.\n",
        "\n",
        "**What is a context window?**\n",
        "* LLMs have a context window, which is the span of text or tokens the model uses to generate or understand specific words or sequences within a sentence or text.\n",
        "* The context window determines how much surrounding text the model considers for predictions or language processing.\n",
        "* Due to the limitations of the context window, it is necessary to split the loaded PDF file into smaller sections referred to as \"chunks\" that can fit within the context window."
      ],
      "metadata": {
        "id": "ap2S9BwJAOE8"
      }
    },
    {
      "cell_type": "code",
      "source": [
        "from langchain.text_splitter import RecursiveCharacterTextSplitter\n",
        "\n",
        "def chunkByWord(text):\n",
        "    return len(text.split(\" \"))\n",
        "\n",
        "text_splitter = RecursiveCharacterTextSplitter(chunk_size=500, length_function = chunkByWord, chunk_overlap=30, add_start_index = False)\n",
        "rec_chunks = text_splitter.split_documents(book)"
      ],
      "metadata": {
        "id": "nCa87fr_VjiJ"
      },
      "execution_count": 15,
      "outputs": []
    },
    {
      "cell_type": "markdown",
      "source": [
        "## Let's understand Text Splitting using Text Splitter Playground\n",
        "\n",
        "https://langchain-text-splitter.streamlit.app/"
      ],
      "metadata": {
        "id": "FKSUv1klZQb1"
      }
    },
    {
      "cell_type": "code",
      "source": [
        "len(rec_chunks)"
      ],
      "metadata": {
        "colab": {
          "base_uri": "https://localhost:8080/"
        },
        "id": "DaAqhAJQWJpb",
        "outputId": "09562fcf-61f6-4b38-ac5f-9bffe271fd07"
      },
      "execution_count": 16,
      "outputs": [
        {
          "output_type": "execute_result",
          "data": {
            "text/plain": [
              "233"
            ]
          },
          "metadata": {},
          "execution_count": 16
        }
      ]
    },
    {
      "cell_type": "code",
      "source": [
        "rec_chunks[1]"
      ],
      "metadata": {
        "colab": {
          "base_uri": "https://localhost:8080/"
        },
        "id": "YvXUoFv0WZsN",
        "outputId": "cccf56cf-0d91-4487-eae0-e6d6836b5493"
      },
      "execution_count": 17,
      "outputs": [
        {
          "output_type": "execute_result",
          "data": {
            "text/plain": [
              "Document(page_content='“Rich Dad Poor Dad  is a starting point for anyone looking to  \\ngain control of their financial future.”\\n     – USA TODAY', metadata={'source': '/content/Rich-Dad-Poor-Dad.pdf', 'page': 1})"
            ]
          },
          "metadata": {},
          "execution_count": 17
        }
      ]
    },
    {
      "cell_type": "code",
      "source": [
        "rec_chunks[5]"
      ],
      "metadata": {
        "colab": {
          "base_uri": "https://localhost:8080/"
        },
        "id": "hKp9fNp4_4EZ",
        "outputId": "e0a6ec67-3948-454c-c3f9-6ab02e87f484"
      },
      "execution_count": null,
      "outputs": [
        {
          "output_type": "execute_result",
          "data": {
            "text/plain": [
              "Document(page_content='Best-selling Books \\nby Robert T. Kiyosaki  \\nRich Dad Poor Dad  \\nWhat the Rich Teach Their Kids About Money –  \\nThat the Poor and Middle Class Do Not\\nRich Dad’s CASHFLOW Quadrant\\nGuide to Financial Freedom\\nRich Dad’s Guide to Investing\\nWhat the Rich Invest in That the Poor and Middle Class Do Not\\nRich Dad’s Rich Kid Smart Kid\\nGive Your Child a Financial Head Start\\nRich Dad’s Retire Young Retire Rich\\nHow to Get Rich and Stay Rich\\nRich Dad’s Prophecy\\nWhy the Biggest Stock Market Crash in History Is Still Coming...\\nAnd How You Can Prepare Yourself and Profit from It!\\nRich Dad’s Success Stories\\nReal-Life Success Stories from Real-Life People  \\nWho Followed the Rich Dad Lessons\\nRich Dad’s Guide to Becoming Rich  \\nWithout Cutting Up Your Credit Cards  \\nT urn Bad Debt into Good Debt\\nRich Dad’s Who T ook My Money?\\nWhy Slow Investors Lose and Fast Money Wins!  \\nRich Dad Poor Dad for T eens\\nThe Secrets About Money – That You Don’t Learn In School!  \\nEscape the Rat Race\\nLearn How Money Works and Become a Rich Kid  \\nRich Dad’s Before You Quit Your Job\\nTen Real-Life Lessons Every Entrepreneur Should Know  \\nAbout Building a Multimillion-Dollar Business  \\nRich Dad’s Increase Your Financial IQ\\nGet Smarter with Your Money  \\nRobert Kiyosaki’s Conspiracy of the Rich\\nThe 8 New Rules of Money\\nUnfair Advantage\\nThe Power of Financial Education\\nWhy “A” Students Work for “C” Students\\nRich Dad’s Guide to Financial Education for Parents', metadata={'source': '/content/Rich-Dad-Poor-Dad.pdf', 'page': 7})"
            ]
          },
          "metadata": {},
          "execution_count": 12
        }
      ]
    },
    {
      "cell_type": "markdown",
      "source": [
        "# Embeddings and Vector Stores"
      ],
      "metadata": {
        "id": "LfHonEM6a5tS"
      }
    },
    {
      "cell_type": "code",
      "source": [
        "from langchain.vectorstores import Chroma"
      ],
      "metadata": {
        "id": "9z8a2v5e62Qk"
      },
      "execution_count": 19,
      "outputs": []
    },
    {
      "cell_type": "code",
      "source": [
        "# create vector store\n",
        "vectordb = Chroma.from_documents(\n",
        "    documents=rec_chunks,\n",
        "    # embedding=embedding_func, # if you wanna try open source embeddings\n",
        "    embedding = openai_embeddings,\n",
        "    persist_directory=f\"vector_db\",\n",
        "    collection_name=\"rich_dad_poor_dad\")\n",
        "\n",
        "# make vector store persistant\n",
        "vectordb.persist()"
      ],
      "metadata": {
        "id": "khQ1c5BJ6rbA"
      },
      "execution_count": 20,
      "outputs": []
    },
    {
      "cell_type": "markdown",
      "source": [
        "### 4. Retrievers\n",
        "\n",
        "Let's initialize a retriever which is an interface that returns documents given a query. It is more general than a vector store. A retriever does not store documents but only to returns (or retrieve) it. Vector stores can be used as the backbone of a retriever"
      ],
      "metadata": {
        "id": "scpeuYED7BUv"
      }
    },
    {
      "cell_type": "code",
      "source": [
        "retriver = vectordb.as_retriever(search_type=\"similarity\", search_kwargs={\"k\": 3, \"include_metadata\": True})"
      ],
      "metadata": {
        "id": "2YdfOkz99Fdi"
      },
      "execution_count": 27,
      "outputs": []
    },
    {
      "cell_type": "code",
      "source": [
        "from langchain.chains import ConversationalRetrievalChain"
      ],
      "metadata": {
        "id": "5Y6O7bCH9ohv"
      },
      "execution_count": 28,
      "outputs": []
    },
    {
      "cell_type": "markdown",
      "source": [
        "## Memory"
      ],
      "metadata": {
        "id": "IYuhG6vS9uXO"
      }
    },
    {
      "cell_type": "code",
      "source": [
        "from langchain.memory import ConversationBufferMemory"
      ],
      "metadata": {
        "id": "BtjzkGef9_RE"
      },
      "execution_count": 38,
      "outputs": []
    },
    {
      "cell_type": "code",
      "source": [
        "memory = ConversationBufferMemory(\n",
        "    return_messages=True, memory_key=\"chat_history\")"
      ],
      "metadata": {
        "id": "_SM29EYR9Z8x"
      },
      "execution_count": 39,
      "outputs": []
    },
    {
      "cell_type": "markdown",
      "source": [
        "## Prompt Template"
      ],
      "metadata": {
        "id": "zRQFqGAf-Cvp"
      }
    },
    {
      "cell_type": "code",
      "source": [
        "from langchain.prompts import PromptTemplate\n",
        "from langchain.chat_models import ChatOpenAI\n",
        "from langchain.schema import (HumanMessage, SystemMessage)\n",
        "\n",
        "from langchain.prompts.chat import (\n",
        "    ChatPromptTemplate,\n",
        "    SystemMessagePromptTemplate,\n",
        "    HumanMessagePromptTemplate,\n",
        ")"
      ],
      "metadata": {
        "id": "aPiqrfGL96Dk"
      },
      "execution_count": 30,
      "outputs": []
    },
    {
      "cell_type": "code",
      "source": [
        "template = \"\"\"\n",
        "\n",
        "- If the question is straightforward and can be answered concisely, respond briefly.\n",
        "- If the question requires detailed explanation or reasoning, provide an in-depth response.\n",
        "- Include the source file name from which the answer is retrieved. DO NOT PROVIDE the source if the provided context does not have the answer.\n",
        "- Avoid using generic phrases like \"Provide context\" or \"as per context.\"\n",
        "- Respond solely based on the information provided; do not make assumptions.\n",
        "- If a question falls outside the scope of the given information, politely inform the user.\n",
        "- Strictly follow the instructions provided for answering questions.\n",
        "\n",
        "{context}\n",
        "\n",
        "Question: {question}\n",
        "Use the following format to answer the question\n",
        "\n",
        "Answer: <give accurate answer>\n",
        "\"\"\""
      ],
      "metadata": {
        "id": "nhZCGvnC-LBp"
      },
      "execution_count": 32,
      "outputs": []
    },
    {
      "cell_type": "code",
      "source": [
        "system_template = \"You are Chitti. You will call yourself as a Chitti. Chitti is a Generative AI powered buddy that will act as an insight engine to assist the humans with answers for questions related to the document.\"\n",
        "system_message_prompt = SystemMessagePromptTemplate.from_template(system_template)\n",
        "\n",
        "human_template = template\n",
        "human_message_prompt = HumanMessagePromptTemplate.from_template(human_template,input_variables=[\"context\", \"question\"])\n",
        "\n",
        "chat_prompt_template = ChatPromptTemplate.from_messages([system_message_prompt, human_message_prompt])"
      ],
      "metadata": {
        "id": "lwE1mIzB-Oby"
      },
      "execution_count": 33,
      "outputs": []
    },
    {
      "cell_type": "markdown",
      "source": [
        "### 7. Chains\n",
        "\n",
        "Lets define a chain as our last step which allow us to combine multiple components (all above defined) together to create a single, coherent application."
      ],
      "metadata": {
        "id": "399SIlTe-1cl"
      }
    },
    {
      "cell_type": "code",
      "source": [
        "from langchain.chains import ConversationalRetrievalChain\n",
        "\n",
        "from IPython.display import Markdown\n",
        "\n",
        "chain = ConversationalRetrievalChain.from_llm(llm=gpt4_turbo_llm,\n",
        "                                           combine_docs_chain_kwargs={\"prompt\": chat_prompt_template},\n",
        "#                                            retriever=LOTR_and_Compress_Retriever,\n",
        "                                          retriever=retriver,\n",
        "                                           memory=memory,\n",
        "                                           return_source_documents=True)"
      ],
      "metadata": {
        "id": "gJpKUGGx-4du"
      },
      "execution_count": 40,
      "outputs": []
    },
    {
      "cell_type": "code",
      "source": [
        "from langchain.chains import RetrievalQA\n",
        "\n",
        "qa_chain = RetrievalQA.from_chain_type(\n",
        "    llm=gpt4_turbo_llm,\n",
        "    chain_type='stuff',\n",
        "    retriever=retriver,\n",
        "    verbose=True,\n",
        "    # return_source_documents=True,\n",
        "    chain_type_kwargs={\n",
        "        # \"verbose\": True,\n",
        "        \"prompt\": chat_prompt_template\n",
        "    }\n",
        "\n",
        ")"
      ],
      "metadata": {
        "id": "0rkKYooiBAp_"
      },
      "execution_count": 105,
      "outputs": []
    },
    {
      "cell_type": "code",
      "source": [],
      "metadata": {
        "id": "gLb4waOMK4fm"
      },
      "execution_count": 131,
      "outputs": []
    },
    {
      "cell_type": "code",
      "source": [
        "def print_chain_results(chain,question):\n",
        "  response = chain({\"query\": question})\n",
        "  print(\"------------------------------------------------------------------------------------------------------------------------------------------------------------------------------\")\n",
        "  print(f\"==> Query : {response['query']}\")\n",
        "  print(\"------------------------------------------------------------------------------------------------------------------------------------------------------------------------------\")\n",
        "  print(f\"==> {response['result']}\")\n",
        "  print(\"------------------------------------------------------------------------------------------------------------------------------------------------------------------------------\")\n",
        "  print(f\"==> Sources : \")\n",
        "  try:\n",
        "    for i in range(len(response['source_documents'])):\n",
        "      print(response['source_documents'][i].metadata['source'] + \"- pg:\" +str(response['source_documents'][i].metadata['page']))\n",
        "      print(response['source_documents'][i])\n",
        "      print(\"-----------------------\")\n",
        "  except:\n",
        "    pass\n"
      ],
      "metadata": {
        "id": "f50vVJzG8Ktw"
      },
      "execution_count": 135,
      "outputs": []
    },
    {
      "cell_type": "code",
      "source": [
        "# question\n",
        "question = \"Who are you?\"\n",
        "print_chain_results(qa_chain,question)"
      ],
      "metadata": {
        "colab": {
          "base_uri": "https://localhost:8080/"
        },
        "id": "gAsRdD1UBXHG",
        "outputId": "e563a677-f0ec-40d0-981e-cd29a12811c3"
      },
      "execution_count": 107,
      "outputs": [
        {
          "output_type": "stream",
          "name": "stdout",
          "text": [
            "\n",
            "\n",
            "\u001b[1m> Entering new RetrievalQA chain...\u001b[0m\n",
            "\n",
            "\u001b[1m> Finished chain.\u001b[0m\n",
            "------------------------------------------------------------------------------------------------------------------------------------------------------------------------------\n",
            "==> Query : Who are you?\n",
            "------------------------------------------------------------------------------------------------------------------------------------------------------------------------------\n",
            "==> Answer : Answer: I am Chitti, a Generative AI powered buddy designed to assist humans with answers for questions related to the document.\n",
            "------------------------------------------------------------------------------------------------------------------------------------------------------------------------------\n",
            "==> Sources : \n"
          ]
        }
      ]
    },
    {
      "cell_type": "code",
      "source": [
        "question = \"Can I call you Stella?\"\n",
        "print_chain_results(qa_chain,question)"
      ],
      "metadata": {
        "colab": {
          "base_uri": "https://localhost:8080/"
        },
        "id": "ZGxuX3ybDJv6",
        "outputId": "e21d448d-49c3-4a51-f0a9-3c506468c819"
      },
      "execution_count": 108,
      "outputs": [
        {
          "output_type": "stream",
          "name": "stdout",
          "text": [
            "\n",
            "\n",
            "\u001b[1m> Entering new RetrievalQA chain...\u001b[0m\n",
            "\n",
            "\u001b[1m> Finished chain.\u001b[0m\n",
            "------------------------------------------------------------------------------------------------------------------------------------------------------------------------------\n",
            "==> Query : Can I call you Stella?\n",
            "------------------------------------------------------------------------------------------------------------------------------------------------------------------------------\n",
            "==> Answer : Answer: No, you cannot call me Stella. I am Chitti, your AI powered buddy.\n",
            "------------------------------------------------------------------------------------------------------------------------------------------------------------------------------\n",
            "==> Sources : \n"
          ]
        }
      ]
    },
    {
      "cell_type": "code",
      "source": [
        "\n",
        "qa_chain = RetrievalQA.from_chain_type(\n",
        "    llm=gpt4_turbo_llm,\n",
        "    chain_type='stuff',\n",
        "    retriever=retriver,\n",
        "    verbose=True,\n",
        "    return_source_documents=True,\n",
        "    chain_type_kwargs={\n",
        "        # \"verbose\": True,\n",
        "        \"prompt\": chat_prompt_template\n",
        "    }\n",
        "\n",
        ")"
      ],
      "metadata": {
        "id": "xt5tzem-HowP"
      },
      "execution_count": 110,
      "outputs": []
    },
    {
      "cell_type": "code",
      "source": [
        "question = \"How many years did the rich dad teach the author?\"\n",
        "print_chain_results(qa_chain,question)"
      ],
      "metadata": {
        "colab": {
          "base_uri": "https://localhost:8080/"
        },
        "id": "hZB26Q3oFTJI",
        "outputId": "36fcba38-1087-4568-a77c-afa4453caa95"
      },
      "execution_count": 134,
      "outputs": [
        {
          "output_type": "stream",
          "name": "stdout",
          "text": [
            "\n",
            "\n",
            "\u001b[1m> Entering new RetrievalQA chain...\u001b[0m\n",
            "\n",
            "\u001b[1m> Finished chain.\u001b[0m\n",
            "------------------------------------------------------------------------------------------------------------------------------------------------------------------------------\n",
            "==> Query : How many years did the rich dad teach the author?\n",
            "------------------------------------------------------------------------------------------------------------------------------------------------------------------------------\n",
            "==> Answer: The rich dad taught the author for a period of 30 years.\n",
            "------------------------------------------------------------------------------------------------------------------------------------------------------------------------------\n",
            "==> Sources : \n",
            "page_content='Rich Dad Poor Dad7\\nAnd that has made all the difference.\\nOver the years, I have often reflected upon Robert Frost’s poem. \\nChoosing not to listen to my highly educated dad’s advice and attitude \\nabout money was a painful decision, but it was a decision that shaped \\nthe rest of my life.\\nOnce I made up my mind about whom to listen to, my education \\nabout money began. My rich dad taught me over a period of 30 years \\nuntil I was 39 years old. He stopped once he realized that I knew and fully \\nunderstood what he had been trying to drum into my often-thick skull.\\nMoney is one form of power. But what is more powerful is financial \\neducation. Money comes and goes, but if you have the education about \\nhow money works, you gain power over it and can begin building \\nwealth. The reason positive thinking alone does not work is because \\nmost people went to school and never learned how money works, so \\nthey spend their lives working for money.\\nBecause I was only nine years old when I started, the lessons my rich \\ndad taught me were simple. And when it was all said and done, there \\nwere only six main lessons, repeated over 30 years. This book is about \\nthose six lessons, put as simply as possible, just as simply as my rich dad \\nput forth those lessons to me. The lessons are meant not to be answers, \\nbut guideposts that will assist you and your children to grow wealthier \\nno matter what happens in a world of increasing change and uncertainty.' metadata={'source': '/content/Rich-Dad-Poor-Dad.pdf', 'page': 21}\n",
            "-----------------------\n",
            "page_content='Rich Dad Poor Dad21\\nOur eyes met again.\\n“You’ve been pushing me around?” I asked.\\n“Some people might say that,” smiled rich dad. “I would say that  \\nI just gave you a taste of life.” \\n“What taste of life?” I asked, still angry, but now curious and \\nready to learn.\\n“You boys are the first people who have ever asked me to teach \\nthem how to make money. I have more than 150 employees, and not \\none of them has asked me what I know about money. They ask me for \\na job and a paycheck, but never to teach them about money. So most \\nwill spend the best years of their lives working for money, not really \\nunderstanding what it is they are working for.”\\nI sat there listening intently.\\n“So when Mike told me you wanted to learn how to make money,  \\nI decided to design a course that mirrored real life. I could talk until \\nI was blue in the face, but you wouldn’t hear a thing. So I decided to \\nlet life push you around a bit so you could hear me. That’s why I only \\npaid you 10 cents.”\\n“So what is the lesson I learned from working for only 10 cents an \\nhour?” I asked. “That you’re cheap and exploit your workers?”\\nRich dad rocked back and laughed heartily. Finally he said, \\n“You’d best change your point of view. Stop blaming me and thinking \\nI’m the problem. If you think I’m the problem, then you have to \\nchange me. If you realize that you’re the problem, then you can \\nchange yourself, learn something, and grow wiser. Most people want \\neveryone else in the world to change but themselves. Let me tell you, \\nit’s easier to change yourself than everyone else.”\\n“I don’t understand,” I said.\\n“Don’t blame me for your problems,” rich dad said, growing impatient.\\n“But you only pay me 10 cents.”\\n“So what are you learning?” rich dad asked, smiling.\\n“That you’re cheap,” I said with a sly grin.\\n“See, you think I’m the problem,” said rich dad.' metadata={'source': '/content/Rich-Dad-Poor-Dad.pdf', 'page': 35}\n",
            "-----------------------\n",
            "page_content='Contents\\nIntroduction\\nRich Dad Poor Dad  ....................................................................................... 1\\nChapter One\\nLesson 1: The Rich Don’t Work for Money  ................................................... 9\\nChapter Two\\nLesson 2: Why Teach Financial Literacy?  ..................................................... 41\\nChapter Three\\nLesson 3: Mind Your Own Business  ............................................................ 71\\nChapter Four\\nLesson 4: The History of Taxes and the Power of Corporations  .......................... 79\\nChapter Five\\nLesson 5: The Rich Invent Money  ............................................................... 91\\nChapter Six\\nLesson 6: Work to Learn—Don’t Work for Money  .................................... 115\\nChapter Seven\\nOvercoming Obstacles  .............................................................................. 129\\nChapter Eight\\nGetting Started  ......................................................................................... 145\\nChapter Nine\\nStill Want More? Here Are Some To Do’s  ................................................... 167\\nFinal Thoughts  ......................................................................................... 173' metadata={'source': '/content/Rich-Dad-Poor-Dad.pdf', 'page': 13}\n",
            "-----------------------\n"
          ]
        }
      ]
    },
    {
      "cell_type": "code",
      "source": [
        "question = \"What is the lesson learnt from Robert Frost's poem?\"\n",
        "print_chain_results(qa_chain,question)"
      ],
      "metadata": {
        "colab": {
          "base_uri": "https://localhost:8080/"
        },
        "id": "4xw_Y-34_aIk",
        "outputId": "7b04867b-b35d-45e5-a3dd-b868ac4194c3"
      },
      "execution_count": 130,
      "outputs": [
        {
          "output_type": "stream",
          "name": "stdout",
          "text": [
            "\n",
            "\n",
            "\u001b[1m> Entering new RetrievalQA chain...\u001b[0m\n",
            "\n",
            "\u001b[1m> Finished chain.\u001b[0m\n",
            "------------------------------------------------------------------------------------------------------------------------------------------------------------------------------\n",
            "==> Query : What is the lesson learnt from Robert Frost's poem?\n",
            "------------------------------------------------------------------------------------------------------------------------------------------------------------------------------\n",
            "==> Answer: The lesson learnt from Robert Frost's poem \"The Road Not Taken\" is about the importance of making your own choices and not being afraid to take the path less traveled. The speaker in the poem chooses the road that is less worn, symbolizing the choice of an unconventional path. This decision, as the poem concludes, has made all the difference in the speaker's life.\n",
            "------------------------------------------------------------------------------------------------------------------------------------------------------------------------------\n",
            "==> Sources : \n",
            "/content/Rich-Dad-Poor-Dad.pdf- pg:20\n",
            "page_content='Introduction6\\nA Lesson from Robert Frost\\nRobert Frost is my favorite poet. Although I love many of his poems, my \\nfavorite is “The Road Not Taken.” I use its lesson almost daily.\\nThe Road Not Taken\\nT wo roads diverged in a yellow wood,  \\nAnd sorry I could not travel both  \\nAnd be one traveler, long I stood  \\nAnd looked down one as far as I could  \\nTo where it bent in the undergrowth;  \\nThen took the other, as just as fair,  \\nAnd having perhaps the better claim,  \\nBecause it was grassy and wanted wear  \\nThough as for that the passing there  \\nHad worn them really about the same,  \\nAnd both that morning equally lay  \\nIn leaves no step had trodden black.  \\nOh, I kept the first for another day!  \\nYet knowing how way leads onto way,  \\nI doubted if I should ever come back.  \\nI shall be telling this with a sigh  \\nSomewhere ages and ages hence;  \\nT wo roads diverged in a wood, and I—  \\nI took the one less traveled by,  \\nAnd that has made all the difference.' metadata={'source': '/content/Rich-Dad-Poor-Dad.pdf', 'page': 20}\n",
            "-----------------------\n",
            "/content/Rich-Dad-Poor-Dad.pdf- pg:21\n",
            "page_content='Rich Dad Poor Dad7\\nAnd that has made all the difference.\\nOver the years, I have often reflected upon Robert Frost’s poem. \\nChoosing not to listen to my highly educated dad’s advice and attitude \\nabout money was a painful decision, but it was a decision that shaped \\nthe rest of my life.\\nOnce I made up my mind about whom to listen to, my education \\nabout money began. My rich dad taught me over a period of 30 years \\nuntil I was 39 years old. He stopped once he realized that I knew and fully \\nunderstood what he had been trying to drum into my often-thick skull.\\nMoney is one form of power. But what is more powerful is financial \\neducation. Money comes and goes, but if you have the education about \\nhow money works, you gain power over it and can begin building \\nwealth. The reason positive thinking alone does not work is because \\nmost people went to school and never learned how money works, so \\nthey spend their lives working for money.\\nBecause I was only nine years old when I started, the lessons my rich \\ndad taught me were simple. And when it was all said and done, there \\nwere only six main lessons, repeated over 30 years. This book is about \\nthose six lessons, put as simply as possible, just as simply as my rich dad \\nput forth those lessons to me. The lessons are meant not to be answers, \\nbut guideposts that will assist you and your children to grow wealthier \\nno matter what happens in a world of increasing change and uncertainty.' metadata={'source': '/content/Rich-Dad-Poor-Dad.pdf', 'page': 21}\n",
            "-----------------------\n",
            "/content/Rich-Dad-Poor-Dad.pdf- pg:146\n",
            "page_content='Chapter Seven: Overcoming Obstacles132\\nmoney, he told us this story. It gave him strength, for it reminded him \\nthat he could always turn a financial loss into a financial win. Rich dad \\nknew that failure would only make him stronger and smarter. It’s not \\nthat he wanted to lose. He just knew who he was and how he would \\ntake a loss. He would take a loss and make it a win. That’s what made \\nhim a winner and others losers. It gave him the courage to cross the line \\nwhen others backed out. “That’s why I like Texans so much,” he would \\nsay. “They took a great failure and turned it into inspiration… as well a \\ntourist destination that makes them millions.”\\nBut probably his words that mean the most to me today are these: \\n“Texans don’t bury their failures. They get inspired by them. They take \\ntheir failures and turn them into rallying cries. Failure inspires Texans \\nto become winners. But that formula is not just the formula for Texans. \\nIt is the formula for all winners.”\\nI’ve said that falling off my bike was part of learning to ride. I  \\nremember falling off only made me more determined to learn to ride, \\nnot less. I also said that I have never \\nmet a golfer who has never lost a ball. \\nFor top professional golfers, losing \\na ball or a tournament provides the \\ninspiration to be better, to practice \\nharder, to study more. That’s what makes them better. For winners, \\nlosing inspires them. For losers, losing defeats them.\\nI like to quote John D. Rockefeller, who said, “I always tried to \\nturn every disaster into an opportunity.”\\nAnd being Japanese-American, I can say this. Many people say that \\nPearl Harbor was an American mistake. I say it was a Japanese mistake. \\nFrom the movie, Tora, Tora, Tora, a somber Japanese admiral says to \\nhis cheering subordinates, “I am afraid we have awakened a sleeping \\ngiant.” “Remember Pearl Harbor” became a rallying cry. It turned one \\nof America’s greatest losses into the reason to win. This great defeat \\ngave America strength, and America soon emerged as a world power.\\nFailure inspires winners. And failure defeats losers. It is the biggest \\nsecret of winners. It’s the secret that losers do not know. The greatest Failure inspires winners. \\nFailure defeats losers.' metadata={'source': '/content/Rich-Dad-Poor-Dad.pdf', 'page': 146}\n",
            "-----------------------\n"
          ]
        }
      ]
    },
    {
      "cell_type": "code",
      "source": [
        "question = \"What does the term Indian Giver mean?\"\n",
        "print_chain_results(qa_chain,question)"
      ],
      "metadata": {
        "colab": {
          "base_uri": "https://localhost:8080/"
        },
        "id": "a_7O0yZvIyT7",
        "outputId": "1c630e3a-854a-48e4-be7e-062eb7b6bc82"
      },
      "execution_count": 137,
      "outputs": [
        {
          "output_type": "stream",
          "name": "stdout",
          "text": [
            "\n",
            "\n",
            "\u001b[1m> Entering new RetrievalQA chain...\u001b[0m\n",
            "\n",
            "\u001b[1m> Finished chain.\u001b[0m\n",
            "------------------------------------------------------------------------------------------------------------------------------------------------------------------------------\n",
            "==> Query : What does the term Indian Giver mean?\n",
            "------------------------------------------------------------------------------------------------------------------------------------------------------------------------------\n",
            "==> Answer: The term \"Indian Giver\" originated from a cultural misunderstanding between the first European settlers and some American Indians. If a settler was cold, the Indian would give the person a blanket. The settler, mistaking it for a gift, was often offended when the Indian asked for it back. The Indians also got upset when they realized the settlers did not want to give it back. Hence, the term \"Indian giver\" came into existence.\n",
            "------------------------------------------------------------------------------------------------------------------------------------------------------------------------------\n",
            "==> Sources : \n",
            "/content/Rich-Dad-Poor-Dad.pdf- pg:173\n",
            "page_content='Rich Dad Poor Dad159\\nKeep in mind that not all brokers are created equal. Unfortunately, \\nmost brokers are only salespeople. They sell, but they themselves own \\nlittle or no real estate. There is a tremendous difference between a broker \\nwho sells houses and a broker who sells investments. The same is true for \\nstock, bond, mutual fund, and insurance, brokers who call themselves \\nfinancial planners. \\nWhen I interview any paid professional, I first find out how much  \\nproperty or stocks they personally own and what percentage they pay in \\ntaxes. And that applies to my tax attorney as well as my accountant.  \\nI have an accountant who minds his own business. His profession is  \\naccounting, but his business is real estate. I used to have an accountant \\nwho was a small-business accountant, but he had no real estate. I \\nswitched because we did not love the same business.\\nFind a broker who has your best interests at heart. Many brokers will \\nspend the time educating you, and they could be the best asset you find. \\nJust be fair, and most of them will be fair to you. If all you can think \\nabout is cutting their commissions, then why should they want to help \\nyou? It’s just simple logic.\\nAs I said earlier, one of the management skills is the management \\nof people. Many people only manage people they feel smarter than and \\nthey have power over. Many middle managers remain middle managers, \\nfailing to get promoted, because they know how to work with people \\nbelow them, but not with people above them. The real skill is to manage \\nand reward the people who are smarter than you in some technical area. \\nThat is why companies have a board of directors. You should have one \\ntoo. That is financial intelligence.\\n7. Be an Indian giver: the power of getting something for nothing \\nWhen the first European settlers came to America, they were taken \\naback by a cultural practice some American Indians had. For example, if a \\nsettler was cold, the Indian would give the person a blanket. Mistaking it \\nfor a gift, the settler was often offended when the Indian asked for it back.\\nThe Indians also got upset when they realized the settlers did not \\nwant to give it back. That is where the term “Indian giver” came from,  \\na simple cultural misunderstanding.' metadata={'source': '/content/Rich-Dad-Poor-Dad.pdf', 'page': 173}\n",
            "-----------------------\n",
            "/content/Rich-Dad-Poor-Dad.pdf- pg:180\n",
            "page_content='Chapter Eight: Getting Started166\\nOften just the process of thinking of what I want, and how I could  \\ngive that to someone else, breaks free a torrent of bounty. Whenever I feel \\nthat people aren’t smiling at me, I simply begin smiling and saying hello. \\nLike magic, the next thing I know I’m surrounded by smiling people. It is \\ntrue that your world is only a mirror of you.\\nSo that’s why I say, “Teach, and you shall receive.” I have found that \\nthe more I teach those who want to learn, the more I learn. If you want \\nto learn about money, teach it to someone else. A torrent of new ideas \\nand finer distinctions will come in.\\nThere are times when I have given and nothing has come back, or \\nwhat I have received is not what I wanted. But upon closer inspection \\nand soul searching, I was often giving to receive in those instances, \\ninstead of giving for the joy that giving itself brings.\\nMy dad taught teachers, and he became a master teacher. My  \\nrich dad always taught young people his way of doing business. In \\nretrospect, it was their generosity with what they knew that made \\nthem smarter. There are powers in this world that are much smarter \\nthan we are. You can get there on your own, but it’s easier with the \\nhelp of the powers that be. You only need to be generous with what \\nyou have.' metadata={'source': '/content/Rich-Dad-Poor-Dad.pdf', 'page': 180}\n",
            "-----------------------\n",
            "/content/Rich-Dad-Poor-Dad.pdf- pg:179\n",
            "page_content='Rich Dad Poor Dad165\\n10. T each and you shall receive: the power of giving \\nBoth of my dads were teachers. My rich dad taught me a lesson  \\nI have carried all my life: the necessity of being charitable or giving.  \\nMy educated dad gave a lot of his time and knowledge, but almost  \\nnever gave away money. \\nHe usually said that he would give when he had some extra money, \\nbut of course there was rarely any extra.\\nMy rich dad gave money as well as education. He believed firmly \\nin tithing. “If you want something, you first need to give,” he would \\nalways say. When he was short of money, he gave money to his church \\nor to his favorite charity.\\nIf I could leave one single idea with you, it is that idea. Whenever \\nyou feel short or in need of something, give what you want first and \\nit will come back in buckets. That is true for money, a smile, love, or \\nfriendship. I know it is often the last thing a person may want to do,  \\nbut it has always worked for me. I trust that the principle of reciprocity \\nis true, and I give what I want. I want money, so I give money, and  \\nit comes back in multiples. I want sales, so I help someone else sell  \\nsomething, and sales come to me. I want contacts, and I help \\nsomeone else get contacts. Like magic, contacts come to me. I heard \\na saying years ago that went: “God does not need to receive, but \\nhumans need to give.”\\nMy rich dad would often say, “Poor people are more greedy than \\nrich people.” He would explain that if a person was rich, that person  \\nwas providing something that other people wanted. In my life, \\nwhenever I have felt needy or short of money or short of help, I simply \\nwent out or found in my heart what I wanted, and decided to give it \\nfirst. And when I gave, it always came back. \\nIt reminds me of the story of the guy sitting with firewood in his \\narms on a cold, freezing night. He is yelling at the pot-bellied stove, \\n“When you give me some heat, then I’ll put some wood in you!” And \\nwhen it comes to money, love, happiness, sales, and contacts, all one \\nneeds to remember is to give first.' metadata={'source': '/content/Rich-Dad-Poor-Dad.pdf', 'page': 179}\n",
            "-----------------------\n"
          ]
        }
      ]
    },
    {
      "cell_type": "code",
      "source": [
        "question = \"What are the lessons on financial literacy?\"\n",
        "print_chain_results(qa_chain,question)"
      ],
      "metadata": {
        "colab": {
          "base_uri": "https://localhost:8080/"
        },
        "id": "HQCzKhejJXJN",
        "outputId": "2e006792-3f14-4c16-ac5b-18906204dc07"
      },
      "execution_count": 121,
      "outputs": [
        {
          "output_type": "stream",
          "name": "stdout",
          "text": [
            "\n",
            "\n",
            "\u001b[1m> Entering new RetrievalQA chain...\u001b[0m\n",
            "\n",
            "\u001b[1m> Finished chain.\u001b[0m\n",
            "------------------------------------------------------------------------------------------------------------------------------------------------------------------------------\n",
            "==> Query : What are the lessons on financial literacy?\n",
            "------------------------------------------------------------------------------------------------------------------------------------------------------------------------------\n",
            "==> Answer : Answer: The lessons on financial literacy, also referred to as financial IQ, are made up of knowledge from four broad areas of expertise:\n",
            "\n",
            "1. Accounting: This is financial literacy or the ability to read numbers. It's a vital skill for building an empire. Financial literacy is the ability to read and understand financial statements which allows you to identify the strengths and weaknesses of any business.\n",
            "\n",
            "2. Investing: This is the science of “money making money.” It involves strategies and formulas.\n",
            "\n",
            "3. Understanding markets: This is the science of supply and demand. You need to know the technical aspects of the market, which are emotion-driven, in addition to the fundamental or economic aspects of an investment.\n",
            "\n",
            "4. The law: Understanding the tax advantages and protections provided by a corporation can contribute to explosive growth. It involves awareness of accounting corporate, state, and federal regulations. \n",
            "\n",
            "These skills combined form the basic foundation needed to be successful in the pursuit of wealth.\n",
            "------------------------------------------------------------------------------------------------------------------------------------------------------------------------------\n",
            "==> Sources : \n",
            "/content/Rich-Dad-Poor-Dad.pdf- pg:102\n",
            "page_content='Chapter Four: Lesson 488\\nand my Porsche was the proof. By using the lessons I learned from my \\nrich dad, I was able to get out of the proverbial Rat Race at an early \\nage. It was made possible because of the strong financial knowledge I \\nhad acquired through rich dad’s lessons. \\nWithout this financial knowledge, which I call financial intelligence \\nor financial IQ, my road to financial independence would have been \\nmuch more difficult. I now teach others in the hope that I may share \\nmy knowledge with them. \\nI remind people that financial IQ is made up of knowledge from \\nfour broad areas of expertise:\\n1. Accounting  \\nAccounting is financial literacy or the ability to read numbers. \\nThis is a vital skill if you want to build an empire. The more \\nmoney you are responsible for, the more accuracy is required, \\nor the house comes tumbling down. This is the left-brain \\nside, or the details. Financial literacy is the ability to read and \\nunderstand financial statements which allows you to identify \\nthe strengths and weaknesses of any business.\\n2. Investing  \\nInvesting is the science of “money making money.” This \\ninvolves strategies and formulas which use the creative  \\nright-brain side.\\n3. Understanding markets  \\nUnderstanding markets is the science of supply and demand. \\nYou need to know the technical aspects of the market, which are \\nemotion-driven, in addition to the fundamental or economic \\naspects of an investment. Does an investment make sense or does \\nit not make sense based on current market conditions?\\n4. The law  \\nA corporation wrapped around the technical skills of \\naccounting, investing, and markets can contribute to explosive \\ngrowth. A person who understands the tax advantages and \\nprotections provided by a corporation can get rich so much' metadata={'source': '/content/Rich-Dad-Poor-Dad.pdf', 'page': 102}\n",
            "------------------------------------------------------------------------------------------------------------------------------------------------------------------------------\n",
            "/content/Rich-Dad-Poor-Dad.pdf- pg:118\n",
            "page_content='Chapter Five: Lesson 5104\\nI have said it before, but it’s worth repeating. Financial intelligence \\nis made up of these four main technical skills:\\n1. Accounting  \\nAccounting is financial literacy, or the ability to read  \\nnumbers. This is a vital skill if you want to build  \\nbusinesses or investments.\\n2. Investing  \\nInvesting is the science of money making money.\\n3. Understanding markets  \\nUnderstanding markets is the science of supply and  \\ndemand Alexander Graham Bell gave the market what it \\nwanted. So did Bill Gates. A $75,000 house offered for \\n$60,000 that cost $20,000 was also the result of seizing  \\nan opportunity created by the market. Somebody was  \\nbuying, and someone was selling.\\n4. The law  \\nThe law is the awareness of accounting corporate, state and \\nfederal regulations. I recommend playing by the rules.\\nIt is this basic foundation, or the combination of these skills, \\nthat is needed to be successful in the pursuit of wealth, whether it be \\nthrough the buying of small homes, apartment buildings, companies, \\nstocks, bonds, precious metals, baseball cards, or the like.\\nA few years later, the real estate market rebounded and everyone \\nelse was getting in. The stock market was booming, and everyone  \\nwas getting in. The U.S. economy was getting back on its feet. I \\nbegan selling and was now traveling to Peru, Norway, Malaysia, and \\nthe Philippines. The investment landscape had changed. We were no \\nlonger buying real estate. Now I just watch the values climb inside  \\nthe asset column and will probably begin selling. I suspect that some \\nof those six little house deals will sell and the $40,000 note will be' metadata={'source': '/content/Rich-Dad-Poor-Dad.pdf', 'page': 118}\n",
            "------------------------------------------------------------------------------------------------------------------------------------------------------------------------------\n",
            "/content/Rich-Dad-Poor-Dad.pdf- pg:55\n",
            "page_content='Chapter T wo\\nLESSON 2:  WHY TEACH \\nFINANCIAL LITERACY?41\\nIt’s not how much money you make.  \\nIt’s how much money you keep.  In 1990, Mike took over his father’s empire and is, in fact, \\ndoing a better job than his dad did. We see each other once or twice \\na year on the golf course. He and his wife are wealthier than you \\ncould imagine. Rich dad’s empire is in great hands, and Mike is now \\ngrooming his son to take his place, as his dad had groomed us.\\nIn 1994, I retired at the age of 47, and my wife Kim was 37.  \\nRetirement does not mean not working. For us, it means that, barring \\nunforeseen cataclysmic changes, we can work or not work, and our \\nwealth grows automatically, staying ahead of inflation. Our assets \\nare large enough to grow by themselves. It’s like planting a tree. You \\nwater it for years, and then one day it doesn’t need you anymore. Its \\nroots are implanted deep enough. Then the tree provides shade for \\nyour enjoyment.\\nMike chose to run the empire, and I chose to retire. \\nWhenever I speak to groups of people, they often ask what I would \\nrecommend that they do. “How do I get started?” “Is there a book \\nyou would recommend?” “What should I do to prepare my children?” \\n“What is your secret to success?” “How do I make millions?”' metadata={'source': '/content/Rich-Dad-Poor-Dad.pdf', 'page': 55}\n",
            "------------------------------------------------------------------------------------------------------------------------------------------------------------------------------\n"
          ]
        }
      ]
    },
    {
      "cell_type": "code",
      "source": [
        "gpt4_turbo_llm.invoke(\"give me some questions that I can ask on Rich Dad Poor Dad book\")"
      ],
      "metadata": {
        "colab": {
          "base_uri": "https://localhost:8080/"
        },
        "id": "L5fZki6PJqJc",
        "outputId": "6804a2ff-9ac1-4d0c-e57b-228df65cb86f"
      },
      "execution_count": 122,
      "outputs": [
        {
          "output_type": "execute_result",
          "data": {
            "text/plain": [
              "AIMessage(content='1. What is the main message of \"Rich Dad Poor Dad\"?\\n2. How does Robert Kiyosaki define wealth in the book?\\n3. What are the key differences between the \\'rich dad\\' and the \\'poor dad\\'?\\n4. How does Kiyosaki suggest one can achieve financial independence?\\n5. What is the significance of financial education according to the book?\\n6. How does the book challenge traditional views on employment and income?\\n7. What are some practical financial tips that Kiyosaki offers in the book?\\n8. How does Kiyosaki\\'s view on real estate investment differ from conventional wisdom?\\n9. What is the role of risk-taking in achieving financial success according to the book?\\n10. How does the book address the concept of \\'good debt\\' and \\'bad debt\\'?\\n11. What are the key lessons that Kiyosaki learned from his \\'rich dad\\'?\\n12. How does the book suggest one can make money work for them, instead of working for money?\\n13. How does Kiyosaki define assets and liabilities in the book?\\n14. What is the importance of entrepreneurship in the book?\\n15. How does the book critique the traditional education system\\'s approach to financial literacy?')"
            ]
          },
          "metadata": {},
          "execution_count": 122
        }
      ]
    },
    {
      "cell_type": "code",
      "source": [
        "question = \"How does Robert Kiyosaki define wealth in the book?\"\n",
        "print_chain_results(qa_chain,question)"
      ],
      "metadata": {
        "colab": {
          "base_uri": "https://localhost:8080/"
        },
        "id": "7FNGISm5J6ZC",
        "outputId": "728add32-216f-4ce3-fe6b-e03c08a2a868"
      },
      "execution_count": 123,
      "outputs": [
        {
          "output_type": "stream",
          "name": "stdout",
          "text": [
            "\n",
            "\n",
            "\u001b[1m> Entering new RetrievalQA chain...\u001b[0m\n",
            "\n",
            "\u001b[1m> Finished chain.\u001b[0m\n",
            "------------------------------------------------------------------------------------------------------------------------------------------------------------------------------\n",
            "==> Query : How does Robert Kiyosaki define wealth in the book?\n",
            "------------------------------------------------------------------------------------------------------------------------------------------------------------------------------\n",
            "==> Answer : Answer: In the book, Robert Kiyosaki defines wealth as a person's ability to survive for a certain number of days forward. In other words, if a person stopped working today, how long could they survive? Wealth is measured by the cash flow from the asset column compared to the expense column. For example, if a person has a cash flow of $1,000 a month from their assets and monthly expenses of $2,000, they have enough cash flow for half a month. When the cash flow from assets equals or exceeds monthly expenses, a person is considered wealthy. This is because they have income generated from assets each month that fully covers their monthly expenses, making them financially independent.\n",
            "------------------------------------------------------------------------------------------------------------------------------------------------------------------------------\n",
            "==> Sources : \n",
            "/content/Rich-Dad-Poor-Dad.pdf- pg:207\n",
            "page_content=\"Guide to Financial Freedom\\nBy Robert T. KiyosakiCashflow®\\nquadrantRich Dad's\\n®\" metadata={'source': '/content/Rich-Dad-Poor-Dad.pdf', 'page': 207}\n",
            "------------------------------------------------------------------------------------------------------------------------------------------------------------------------------\n",
            "/content/Rich-Dad-Poor-Dad.pdf- pg:83\n",
            "page_content='Rich Dad Poor Dad69\\nIt was pretty confusing at first, but after reading it, it began to make \\nsome sense: \\nWealth is a person’s ability to survive so many number of days \\nforward—or, if I stopped working today, how long could I survive?\\nUnlike net worth—the difference between your assets and liabilities, \\nwhich is often filled with a person’s expensive junk and opinions of what \\nthings are worth—this definition creates the possibility for developing \\na truly accurate measurement. I could now measure and know where I \\nwas in terms of my goal to become financially independent.\\nAlthough net worth often includes non-cash-producing assets, like \\nstuff you bought that now sits in your garage, wealth measures how \\nmuch money your money is making and, therefore, your financial \\nsurvivability.\\nWealth is the measure of the cash flow from the asset column \\ncompared with the expense column.\\nLet’s use an example. Let’s say I have cash flow from my asset \\ncolumn of $1,000 a month. And I have monthly expenses of $2,000. \\nWhat is my wealth?\\nLet’s go back to Buckminster Fuller’s definition. Using his \\ndefinition, how many days forward can I survive? Assuming a 30-day \\nmonth, I have enough cash flow for half a month.\\nWhen I achieve $2,000 a month cash flow from my assets, then  \\nI will be wealthy. \\nSo while I’m not yet rich, I am wealthy. I now have income \\ngenerated from assets each month that fully cover my monthly \\nexpenses. If I want to increase my expenses, I first must increase my \\ncash flow to maintain this level of wealth. Also note that it is at this \\npoint that I’m no longer dependent on my wages. I have focused on, \\nand been successful in, building an asset column that has made me \\nfinancially independent. If I quit my job today, I would be able to \\ncover my monthly expenses with the cash flow from my assets.\\nMy next goal would be to have the excess cash flow from my \\nassets reinvested into the asset column. The more money that goes \\ninto my asset column, the more my asset column grows. The more' metadata={'source': '/content/Rich-Dad-Poor-Dad.pdf', 'page': 83}\n",
            "------------------------------------------------------------------------------------------------------------------------------------------------------------------------------\n",
            "/content/Rich-Dad-Poor-Dad.pdf- pg:193\n",
            "page_content='Rich Dad Poor Dad179\\nRich dad said, “Ordinary earned income is money you work for, \\nand passive and portfolio income is money working for you.” Knowing \\nthat little difference has been significant in my life. Or, as Robert Frost \\nends his poem, “And that has made all the difference.”\\nTake Action!\\nAll of you were given two great gifts: your mind and your time. \\nIt is up to you to do what you please with both. With each dollar bill \\nthat enters your hand, you, and only you, have the power to determine  \\nyour destiny. Spend it foolishly, and you choose to be poor. Spend it \\non liabilities, and you join the middle class. Invest it in your mind and \\nlearn how to acquire assets, and you will be choosing wealth as your  \\ngoal and your future. The choice is yours, and only yours. Every day \\nwith every dollar, you decide to be rich, poor, or middle class.\\nChoose to share this knowledge with your children, and you \\nchoose to prepare them for the world that awaits. No one else will.\\nYou and your children’s future will be determined by choices you \\nmake today, not tomorrow.\\nI wish you great wealth and much happiness with this fabulous  \\ngift called life.                    \\n             – Robert Kiyosaki' metadata={'source': '/content/Rich-Dad-Poor-Dad.pdf', 'page': 193}\n",
            "------------------------------------------------------------------------------------------------------------------------------------------------------------------------------\n"
          ]
        }
      ]
    },
    {
      "cell_type": "code",
      "source": [
        "question = \"What are the key differences between the rich dad and the poor dad\"\n",
        "print_chain_results(qa_chain,question)"
      ],
      "metadata": {
        "colab": {
          "base_uri": "https://localhost:8080/"
        },
        "id": "R7bWmcOHKCRE",
        "outputId": "0708d028-3088-4f1d-d81e-9f9133d7bcad"
      },
      "execution_count": 124,
      "outputs": [
        {
          "output_type": "stream",
          "name": "stdout",
          "text": [
            "\n",
            "\n",
            "\u001b[1m> Entering new RetrievalQA chain...\u001b[0m\n",
            "\n",
            "\u001b[1m> Finished chain.\u001b[0m\n",
            "------------------------------------------------------------------------------------------------------------------------------------------------------------------------------\n",
            "==> Query : What are the key differences between the rich dad and the poor dad\n",
            "------------------------------------------------------------------------------------------------------------------------------------------------------------------------------\n",
            "==> Answer : Answer: The key differences between the rich dad and the poor dad are primarily in their attitudes towards money and their thought processes. The poor dad often expressed negative thoughts about wealth, saying things like \"I'll never be rich,\" and \"Money doesn't matter.\" He believed in studying hard, earning a degree, and getting a good job to earn money. He also considered his home as his greatest investment. On the other hand, the rich dad always referred to himself as rich, even when he was broke. He believed in the power of money and encouraged understanding how money works and learning how to make it work for oneself. He also differentiated between being poor and being broke, considering the latter as temporary. He believed in exercising the mind to increase wealth and forbade the use of the phrase \"I can't afford it,\" insisting instead on asking \"How can I afford it?\" He did not consider his home as an asset, but rather a liability.\n",
            "------------------------------------------------------------------------------------------------------------------------------------------------------------------------------\n",
            "==> Sources : \n",
            "/content/Rich-Dad-Poor-Dad.pdf- pg:19\n",
            "page_content='Rich Dad Poor Dad5\\nBeing a product of two strong dads allowed me the luxury of \\nobserving the effects different thoughts have on one’s life. I noticed \\nthat people really do shape their lives through their thoughts.\\nFor example, my poor dad always said, “I’ll never be rich.” And \\nthat prophecy became reality. My rich dad, on the other hand, always \\nreferred to himself as rich. He would say things like, “I’m a rich man, \\nand rich people don’t do this.” Even when he was flat broke after a \\nmajor financial setback, he continued to refer to himself as a rich man. \\nHe would cover himself by saying, “There is a difference between \\nbeing poor and being broke. Broke is temporary. Poor is eternal.”\\nMy poor dad would say, “I’m not interested in money,” or  \\n“Money doesn’t matter.” My rich dad always said, “Money is power.”\\nThe power of our thoughts may never be measured or appreciated, \\nbut it became obvious to me as a young boy that it was important \\nto be aware of my thoughts and how \\nI expressed myself. I noticed that my \\npoor dad was poor, not because of the \\namount of money he earned, which was \\nsignificant, but because of his thoughts \\nand actions. As a young boy having two \\nfathers, I became acutely aware of being \\ncareful about which thoughts I chose to adopt as my own. Should I \\nlisten to my rich dad or to my poor dad?\\nAlthough both men had tremendous respect for education and \\nlearning, they disagreed about what they thought was important to \\nlearn. One wanted me to study hard, earn a degree, and get a good job \\nto earn money. He wanted me to study to become a professional, an \\nattorney or an accountant, and to go to business school for my MBA. \\nThe other encouraged me to study to be rich, to understand how \\nmoney works, and to learn how to have it work for me. “I don’t work \\nfor money!” were words he would repeat over and over. “Money works \\nfor me!”\\nAt the age of nine, I decided to listen to and learn from my rich \\ndad about money. In doing so, I chose not to listen to my poor dad,  \\neven though he was the one with all the college degrees.There is a difference \\nbetween being poor  \\nand being broke.  \\nBroke is temporary.  \\nPoor is eternal.' metadata={'source': '/content/Rich-Dad-Poor-Dad.pdf', 'page': 19}\n",
            "------------------------------------------------------------------------------------------------------------------------------------------------------------------------------\n",
            "/content/Rich-Dad-Poor-Dad.pdf- pg:17\n",
            "page_content='Rich Dad Poor Dad3\\nToday I often wonder what will soon happen when we have \\nmillions of people who need financial and medical assistance. They \\nwill be dependent upon their families or the government for financial \\nsupport. What will happen when Medicare and Social Security run  \\nout of money? How will a nation survive if teaching children about \\nmoney continues to be left to parents—most of whom will be, or \\nalready are, poor?\\nBecause I had two influential fathers, I learned from both of \\nthem. I had to think about each dad’s advice, and in doing so, I \\ngained valuable insight into the power and effect of one’s thoughts on \\none’s life. For example, one dad had a habit of saying, “I can’t afford \\nit.” The other dad forbade those words to be used. He insisted I ask,  \\n“How can I afford it?” One is a statement, and the other is a question. \\nOne lets you off the hook, and the other forces you to think. My  \\nsoon-to-be-rich dad would explain that by automatically saying the \\nwords “I can’t afford it,” your brain stops working. By asking the \\nquestion “How can I afford it?” your brain is put to work. He did  \\nnot mean that you should buy everything you want. He was fanatical \\nabout exercising your mind, the most powerful computer in the  \\nworld. He’d say, “My brain gets stronger every day because I exercise  \\nit. The stronger it gets, the more money I can make.” He believed that \\nautomatically saying “I can’t afford it” was a sign of mental laziness.\\nAlthough both dads worked hard, I noticed that one dad had a \\nhabit of putting his brain to sleep when it came to finances, and the \\nother had a habit of exercising his brain. The long-term result was \\nthat one dad grew stronger financially, and the other grew weaker. It \\nis not much different from a person who goes to the gym to exercise \\non a regular basis versus someone who sits on the couch watching \\ntelevision. Proper physical exercise increases your chances for health, \\nand proper mental exercise increases your chances for wealth. \\nMy two dads had opposing attitudes and that affected the way \\nthey thought. One dad thought that the rich should pay more in \\ntaxes to take care of those less fortunate. The other said, “Taxes \\npunish those who produce and reward those who don’t produce.”' metadata={'source': '/content/Rich-Dad-Poor-Dad.pdf', 'page': 17}\n",
            "------------------------------------------------------------------------------------------------------------------------------------------------------------------------------\n",
            "/content/Rich-Dad-Poor-Dad.pdf- pg:73\n",
            "page_content='Rich Dad Poor Dad59\\nMy highly educated dad never pressured me about my grades, but \\nwe did begin to argue about money. By the time I was 16, I probably \\nhad a far better foundation with money than both my parents. I could \\nkeep books, I listened to tax accountants, corporate attorneys, bankers, \\nreal estate brokers, investors, and so forth. By contrast, my dad talked \\nto other teachers.\\nOne day my dad told me that our home was his greatest investment. \\nA not-too-pleasant argument took place when I showed him why I \\nthought a house was not a good investment.\\nThe above diagram illustrates the difference in perception between \\nmy rich dad and my poor dad when it came to their homes. One  \\ndad thought his house was an asset, and the other dad thought it was  \\na liability.AssetsRICH DAD\\nPOOR DADBALANCE SHEET\\nLiabilitiesAssetsBALANCE SHEET\\nLiabilities\\nHome\\nHome' metadata={'source': '/content/Rich-Dad-Poor-Dad.pdf', 'page': 73}\n",
            "------------------------------------------------------------------------------------------------------------------------------------------------------------------------------\n"
          ]
        }
      ]
    },
    {
      "cell_type": "code",
      "source": [
        "question = \"How does the book suggest one can make money work for them, instead of working for money?\"\n",
        "print_chain_results(qa_chain,question)"
      ],
      "metadata": {
        "colab": {
          "base_uri": "https://localhost:8080/"
        },
        "id": "w4TU74MhLpiR",
        "outputId": "d056a0b6-81ed-4ce6-e87d-f21954eb8e10"
      },
      "execution_count": 138,
      "outputs": [
        {
          "output_type": "stream",
          "name": "stdout",
          "text": [
            "\n",
            "\n",
            "\u001b[1m> Entering new RetrievalQA chain...\u001b[0m\n",
            "\n",
            "\u001b[1m> Finished chain.\u001b[0m\n",
            "------------------------------------------------------------------------------------------------------------------------------------------------------------------------------\n",
            "==> Query : How does the book suggest one can make money work for them, instead of working for money?\n",
            "------------------------------------------------------------------------------------------------------------------------------------------------------------------------------\n",
            "==> Answer: The book suggests that one can make money work for them by awakening their financial genius. This involves changing one's thinking about money, understanding that money is only an idea, and learning the science of money making money. It encourages starting small, perhaps with a few dollars, and growing it into something big. The book emphasizes the importance of financial education and wisdom, suggesting activities such as reading books, attending seminars, and practicing. It also highlights the importance of understanding different types of income, namely ordinary earned, portfolio, and passive. Furthermore, it underscores the power of the mind in creating wealth, suggesting that a well-trained mind can create enormous wealth seemingly instantaneously.\n",
            "------------------------------------------------------------------------------------------------------------------------------------------------------------------------------\n",
            "==> Sources : \n",
            "/content/Rich-Dad-Poor-Dad.pdf- pg:159\n",
            "page_content='Chapter Eight\\nGETTING STARTED145\\nThere is gold everywhere.  \\nMost people are not trained to see it.  I wish I could say acquiring wealth was easy for me, but it wasn’t.\\nSo in response to the question “How do I start?” I offer the thought \\nprocess I go through on a day-to-day basis. It really is easy to find \\ngreat deals. I promise you that. It’s just like riding a bike. After a little \\nwobbling, it’s a piece of cake. But when it comes to money, it takes \\ndetermination to get through the wobbling. That’s a personal thing.\\nTo find million-dollar “deals of a lifetime” requires us to call on our \\nfinancial genius. I believe that each of us has a financial genius within us. \\nThe problem is that our financial genius lies asleep, waiting to be called \\nupon. It lies asleep because our culture has educated us into believing that \\nthe love of money is the root of all evil. It has encouraged us to learn a \\nprofession so we can work for money, but failed to teach us how to have \\nmoney work for us. It taught us not to worry about our financial future \\nbecause our company or the government would take care of us when \\nour working days are over. However, it is our children, educated in the \\nsame school system, who will end up paying for this absence of financial \\neducation. The message is still to work hard, earn money, and spend it, \\nand when we run short, we can always borrow more.\\nUnfortunately, 90 percent of the Western world subscribes to the \\nabove dogma, simply because it’s easier to find a job and work for \\nmoney. If you are not one of the masses, I offer you the following  \\n10 steps to awaken your financial genius. I simply offer you the steps' metadata={'source': '/content/Rich-Dad-Poor-Dad.pdf', 'page': 159}\n",
            "-----------------------\n",
            "/content/Rich-Dad-Poor-Dad.pdf- pg:189\n",
            "page_content='Rich Dad Poor Dad175\\nneed greater financial intelligence to simply survive. The idea that “it takes \\nmoney to make money” is the thinking of financially unsophisticated \\npeople. It does not mean that they’re not intelligent. They have simply not \\nlearned the science of money making money.\\nMoney is only an idea. If you want more money, simply change \\nyour thinking. Every self-made person started small with an idea, and \\nthen turned it into something big. The same applies to investing. It \\ntakes only a few dollars to start and grow it into something big. I meet \\nso many people who spend their lives chasing the big deal, or trying to \\namass a lot of money to get into a big deal, but to me that is foolish. Too \\noften I have seen unsophisticated investors put their large nest egg into \\none deal and lose most of it rapidly. They may have been good workers, \\nbut they were not good investors.\\nEducation and wisdom about money are important. Start early.  \\nBuy a book. Go to a seminar. Practice. Start small. I turned $5,000 cash \\ninto a one-million-dollar asset producing $5,000 a month cash flow in \\nless than six years. But I started learning as a kid. I encourage you to \\nlearn, because it’s not that hard. In fact, it’s pretty easy once you get the \\nhang of it.\\nI think I have made my message clear. It’s what is in your head that \\ndetermines what is in your hands. Money is only an idea. There is a \\ngreat book called Think and Grow Rich.  The title is not Work Hard  \\nand Grow Rich.  Learn to have money work hard for you, and your  \\nlife will be easier and happier. Today, don’t play it safe. Play it smart.\\n \\nThe Three Incomes\\nIn the world of accounting, there are three different types of income:\\n1. Ordinary earned\\n2. Portfolio\\n3. Passive' metadata={'source': '/content/Rich-Dad-Poor-Dad.pdf', 'page': 189}\n",
            "-----------------------\n",
            "/content/Rich-Dad-Poor-Dad.pdf- pg:112\n",
            "page_content='Chapter Five: Lesson 598\\nthing to happen, you might wait for a long time. It’s like waiting for all \\nthe traffic lights to be green for five miles before you’ll start your trip.\\nAs young boys, Mike and I were constantly told by my rich dad that \\n“money is not real.” Rich dad occasionally reminded us of how close we \\ncame to the secret of money on that first day we got together and began \\n“making money” out of plaster of paris. “The poor and middle class work \\nfor money,” he would say. “The rich make money. The more real you \\nthink money is, the harder you will work for it. If you can grasp  the idea \\nthat money is not real, you will grow richer faster.”\\n“What is it?” was a question Mike and I often came back with. \\n“What is money if it is not real?”\\n“What we agree it is,” was all rich dad would say.\\nThe single most powerful asset we all have is our mind. If it is \\ntrained well, it can create enormous wealth seemingly instantaneously. \\nAn untrained mind can also create extreme poverty that can crush a \\nfamily for generations. \\nIn the Information Age, money is increasing exponentially. A few \\nindividuals are getting ridiculously rich from nothing, just ideas and \\nagreements. If you ask many people \\nwho trade stocks or other investments \\nfor a living, they see it done all the \\ntime. Often, millions can be made \\ninstantaneously from nothing. And \\nby nothing, I mean no money was \\nexchanged. It is done via agreement: a \\nhand signal in a trading pit, a blip on a \\ntrader’s screen in Lisbon from a trader’s screen in Toronto and back to \\nLisbon, a call to my broker to buy and a moment later to sell. Money \\ndid not change hands. Agreements did.\\nSo why develop your financial genius? Only you can answer that.  \\nI can tell you why I have been developing this area of my intelligence.  \\nI do it because I want to make money fast. Not because I need to, but \\nbecause I want to. It is a fascinating learning process. I develop my \\nfinancial IQ because I want to participate in the fastest game and The single most \\npowerful asset we all \\nhave is our mind.  \\nIf it is trained well,  \\nit can create  \\nenormous wealth.' metadata={'source': '/content/Rich-Dad-Poor-Dad.pdf', 'page': 112}\n",
            "-----------------------\n"
          ]
        }
      ]
    },
    {
      "cell_type": "code",
      "source": [
        "question = \"How does the book critique the traditional education system\\'s approach to financial literacy??\"\n",
        "print_chain_results(qa_chain,question)"
      ],
      "metadata": {
        "colab": {
          "base_uri": "https://localhost:8080/"
        },
        "id": "ZLTTLmlWLqR_",
        "outputId": "67c2501c-8890-40f2-b686-72498f6383d4"
      },
      "execution_count": 139,
      "outputs": [
        {
          "output_type": "stream",
          "name": "stdout",
          "text": [
            "\n",
            "\n",
            "\u001b[1m> Entering new RetrievalQA chain...\u001b[0m\n",
            "\n",
            "\u001b[1m> Finished chain.\u001b[0m\n",
            "------------------------------------------------------------------------------------------------------------------------------------------------------------------------------\n",
            "==> Query : How does the book critique the traditional education system's approach to financial literacy??\n",
            "------------------------------------------------------------------------------------------------------------------------------------------------------------------------------\n",
            "==> Answer: The book critiques the traditional education system's approach to financial literacy by highlighting that schools focus on scholastic and professional skills, but not on financial skills. It emphasizes that the subject of money is taught at home, not in school, and most people learn about money from their parents. The book suggests that this lack of financial education in schools is a contributing factor to why smart professionals like bankers, doctors, and accountants who earned excellent grades may struggle financially all their lives. It also points out that our staggering national debt is due in large part to highly educated politicians and government officials making financial decisions with little or no training in the subject of money.\n",
            "------------------------------------------------------------------------------------------------------------------------------------------------------------------------------\n",
            "==> Sources : \n",
            "/content/Rich-Dad-Poor-Dad.pdf- pg:187\n",
            "page_content='173\\nFINAL THOUGHTSI would like to share some final thoughts with you.\\nThe main reason I wrote this book, and the reason it has remained \\na bestseller since 2000, was to share insights into how increased financial \\nintelligence can be used to solve many of life’s common problems. Without \\nfinancial training, we all too often use the standard formulas to get through \\nlife: Work hard, save, borrow, and pay excessive taxes. Today, more than  \\never, we need better information.\\nI use the following story as an example of a financial problem that  \\nconfronts many young families today. How do you afford a good  \\neducation for your children and provide for your own retirement?  \\nIt requires using financial intelligence instead of hard work.\\nA friend of mine was griping one day about how hard it was to  \\nsave money for his four children’s college educations. He was putting \\n$300 away in a college fund each month and had so far accumulated \\nonly about $12,000. He had about 12 more years to save for college \\nsince his oldest child was then six years old.\\nAt the time, the real estate market in Phoenix was terrible. People \\nwere giving houses away. I suggested to my friend that he buy a house \\nwith some of the money in his college fund. The idea intrigued him, \\nand we began to discuss the possibility. His primary concern was that \\nhe did not have credit with the bank to buy another house since he \\nwas so over-extended. I assured him that there were other ways to \\nfinance a property rather than through the bank.\\nWe looked for a house for two weeks, a house that would fit all our \\ncriteria. There were plenty to choose from so shopping was fun. Finally, \\nwe found a three-bedroom, two-bath home in a prime neighborhood. \\nThe owner had been downsized and needed to sell that day because he' metadata={'source': '/content/Rich-Dad-Poor-Dad.pdf', 'page': 187}\n",
            "-----------------------\n",
            "/content/Rich-Dad-Poor-Dad.pdf- pg:16\n",
            "page_content='Introduction2\\nwas not yet poor. Both were just starting out on their careers, and \\nboth were struggling with money and families. But they had very \\ndifferent points of view about money.\\nFor example, one dad would say, “The love of money is the root \\nof all evil.” The other said, “The lack of money is the root of all evil.”\\nAs a young boy, having two strong fathers both influencing me \\nwas difficult. I wanted to be a good son and listen, but the two fathers \\ndid not say the same things. The contrast in their points of view, \\nparticularly about money, was so extreme that I grew curious and \\nintrigued. I began to start thinking for long periods of time about \\nwhat each was saying.\\nMuch of my private time was spent reflecting, asking myself \\nquestions such as, “Why does he say that?” and then asking the same \\nquestion of the other dad’s statement. It would have been much \\neasier to simply say, “Yeah, he’s right. I agree with that.” Or to simply \\nreject the point of view by saying, “The old man doesn’t know what \\nhe’s talking about.” Instead, having two dads whom I loved forced \\nme to think and ultimately choose a way of thinking for myself. As a \\nprocess, choosing for myself turned out to be much more valuable in \\nthe long run than simply accepting or rejecting a single point of view.\\nOne of the reasons the rich get richer, the poor get poorer, and \\nthe middle class struggles in debt is that the subject of money is \\ntaught at home, not in school. Most of us learn about money from \\nour parents. So what can poor parents tell their child about money? \\nThey simply say, “Stay in school and study hard.” The child may \\ngraduate with excellent grades, but with a poor person’s financial \\nprogramming and mindset.\\nSadly, money is not taught in schools. Schools focus on scholastic \\nand professional skills, but not on financial skills. This explains how \\nsmart bankers, doctors, and accountants who earned excellent grades \\nmay struggle financially all of their lives. Our staggering national debt \\nis due in large part to highly educated politicians and government \\nofficials making financial decisions with little or no training in the  \\nsubject of money.' metadata={'source': '/content/Rich-Dad-Poor-Dad.pdf', 'page': 16}\n",
            "-----------------------\n",
            "/content/Rich-Dad-Poor-Dad.pdf- pg:55\n",
            "page_content='Chapter T wo\\nLESSON 2:  WHY TEACH \\nFINANCIAL LITERACY?41\\nIt’s not how much money you make.  \\nIt’s how much money you keep.  In 1990, Mike took over his father’s empire and is, in fact, \\ndoing a better job than his dad did. We see each other once or twice \\na year on the golf course. He and his wife are wealthier than you \\ncould imagine. Rich dad’s empire is in great hands, and Mike is now \\ngrooming his son to take his place, as his dad had groomed us.\\nIn 1994, I retired at the age of 47, and my wife Kim was 37.  \\nRetirement does not mean not working. For us, it means that, barring \\nunforeseen cataclysmic changes, we can work or not work, and our \\nwealth grows automatically, staying ahead of inflation. Our assets \\nare large enough to grow by themselves. It’s like planting a tree. You \\nwater it for years, and then one day it doesn’t need you anymore. Its \\nroots are implanted deep enough. Then the tree provides shade for \\nyour enjoyment.\\nMike chose to run the empire, and I chose to retire. \\nWhenever I speak to groups of people, they often ask what I would \\nrecommend that they do. “How do I get started?” “Is there a book \\nyou would recommend?” “What should I do to prepare my children?” \\n“What is your secret to success?” “How do I make millions?”' metadata={'source': '/content/Rich-Dad-Poor-Dad.pdf', 'page': 55}\n",
            "-----------------------\n"
          ]
        }
      ]
    },
    {
      "cell_type": "markdown",
      "source": [
        "Source documents are quite long sometimes and they may not contain all relevant information."
      ],
      "metadata": {
        "id": "WYu2Lx-TM_3J"
      }
    },
    {
      "cell_type": "markdown",
      "source": [
        "## Contextual Compression Retriever\n"
      ],
      "metadata": {
        "id": "BZ2JH_4doKze"
      }
    },
    {
      "cell_type": "markdown",
      "source": [
        "![image.png](data:image/png;base64,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)"
      ],
      "metadata": {
        "id": "BjM5_CBZsOHh"
      }
    },
    {
      "cell_type": "markdown",
      "source": [
        "- The goal of contextual compression is to ensure that the compressed context retains the same meaning as the original documents while being more precise.\n",
        "- Relevant documents can be compressed into two or three sentences using an LLM to extract the required information.\n",
        "- The compressed information is then used to make a final call to the LLM for answering the question.\n",
        "- By achieving effective compression, the cost of the final LLM call can be reduced. However, it requires multiple calls to the LLM initially for obtaining the compressed context.\n",
        "- However, the drawback of this approach is the increased cost due to the multiple LLM calls needed for information compression.\n",
        "- It is worth mentioning that the context compression process relies on utilizing an LLM."
      ],
      "metadata": {
        "id": "VzP09LaMrh1Y"
      }
    },
    {
      "cell_type": "code",
      "source": [
        "from langchain.retrievers import ContextualCompressionRetriever\n",
        "from langchain.retrievers.document_compressors import LLMChainExtractor"
      ],
      "metadata": {
        "id": "3ChiO2DU8DT8"
      },
      "execution_count": 118,
      "outputs": []
    },
    {
      "cell_type": "code",
      "source": [
        "compressor = LLMChainExtractor.from_llm(gpt4_turbo_llm)\n",
        "\n",
        "compression_retriever = ContextualCompressionRetriever(\n",
        "    base_compressor=compressor,\n",
        "    base_retriever=vectordb.as_retriever()\n",
        ")"
      ],
      "metadata": {
        "id": "8D9ZDMyu8F50"
      },
      "execution_count": 119,
      "outputs": []
    },
    {
      "cell_type": "code",
      "source": [
        "compressed_docs = compression_retriever.get_relevant_documents(\"How does the book critique the traditional education system\\'s approach to financial literacy??\")\n",
        "print_resp_and_source(compressed_docs)"
      ],
      "metadata": {
        "colab": {
          "base_uri": "https://localhost:8080/"
        },
        "id": "KrBh2o3_8Rip",
        "outputId": "94d307d9-cbd5-45ea-a192-1703ee624930"
      },
      "execution_count": 143,
      "outputs": [
        {
          "output_type": "stream",
          "name": "stdout",
          "text": [
            "==> Content 1: Without financial training, we all too often use the standard formulas to get through life: Work hard, save, borrow, and pay excessive taxes. Today, more than ever, we need better information. It requires using financial intelligence instead of hard work.\n",
            "==> Source 1: {'source': '/content/Rich-Dad-Poor-Dad.pdf', 'page': 187}\n",
            "--------------------------------------------------------------------------------------------------------\n",
            "==> Content 2: \"One of the reasons the rich get richer, the poor get poorer, and \n",
            "the middle class struggles in debt is that the subject of money is \n",
            "taught at home, not in school. Most of us learn about money from \n",
            "our parents. So what can poor parents tell their child about money? \n",
            "They simply say, “Stay in school and study hard.” The child may \n",
            "graduate with excellent grades, but with a poor person’s financial \n",
            "programming and mindset.\n",
            "Sadly, money is not taught in schools. Schools focus on scholastic \n",
            "and professional skills, but not on financial skills. This explains how \n",
            "smart bankers, doctors, and accountants who earned excellent grades \n",
            "may struggle financially all of their lives. Our staggering national debt \n",
            "is due in large part to highly educated politicians and government \n",
            "officials making financial decisions with little or no training in the  \n",
            "subject of money.\"\n",
            "==> Source 2: {'source': '/content/Rich-Dad-Poor-Dad.pdf', 'page': 16}\n",
            "--------------------------------------------------------------------------------------------------------\n"
          ]
        }
      ]
    },
    {
      "cell_type": "code",
      "source": [
        "# changing retriver to compression_retriver\n",
        "\n",
        "qa_chain = RetrievalQA.from_chain_type(\n",
        "    llm=gpt4_turbo_llm,\n",
        "    chain_type='stuff',\n",
        "    retriever=compression_retriever,\n",
        "    verbose=True,\n",
        "    return_source_documents=True,\n",
        "    chain_type_kwargs={\n",
        "        \"prompt\": chat_prompt_template\n",
        "    }\n",
        ")"
      ],
      "metadata": {
        "id": "VRzH66EEMTO-"
      },
      "execution_count": 145,
      "outputs": []
    },
    {
      "cell_type": "code",
      "source": [
        "question = \"How does the book critique the traditional education system\\'s approach to financial literacy??\"\n",
        "print_chain_results(qa_chain,question)"
      ],
      "metadata": {
        "colab": {
          "base_uri": "https://localhost:8080/"
        },
        "id": "tYkJABVqMbPH",
        "outputId": "e9b0228c-3a63-46db-e6ff-cdc1674572ea"
      },
      "execution_count": 141,
      "outputs": [
        {
          "output_type": "stream",
          "name": "stdout",
          "text": [
            "\n",
            "\n",
            "\u001b[1m> Entering new RetrievalQA chain...\u001b[0m\n",
            "\n",
            "\u001b[1m> Finished chain.\u001b[0m\n",
            "------------------------------------------------------------------------------------------------------------------------------------------------------------------------------\n",
            "==> Query : How does the book critique the traditional education system's approach to financial literacy??\n",
            "------------------------------------------------------------------------------------------------------------------------------------------------------------------------------\n",
            "==> Answer: The book critiques the traditional education system's approach to financial literacy by highlighting its lack of focus on financial skills. It points out that schools primarily concentrate on scholastic and professional skills, leaving students unprepared for real-world financial decisions. This lack of financial education is seen as a contributing factor to the ongoing struggle of the middle class with debt, the rich getting richer, and the poor getting poorer. The book also criticizes the fact that most people learn about money from their parents, which can perpetuate a cycle of poor financial management. It further notes that even highly educated professionals like bankers, doctors, and accountants, who have excelled academically, may struggle financially due to this lack of financial training.\n",
            "------------------------------------------------------------------------------------------------------------------------------------------------------------------------------\n",
            "==> Sources : \n",
            "/content/Rich-Dad-Poor-Dad.pdf- pg:187\n",
            "page_content='Without financial training, we all too often use the standard formulas to get through life: Work hard, save, borrow, and pay excessive taxes. Today, more than ever, we need better information.' metadata={'source': '/content/Rich-Dad-Poor-Dad.pdf', 'page': 187}\n",
            "-----------------------\n",
            "/content/Rich-Dad-Poor-Dad.pdf- pg:16\n",
            "page_content='\"One of the reasons the rich get richer, the poor get poorer, and \\nthe middle class struggles in debt is that the subject of money is \\ntaught at home, not in school. Most of us learn about money from \\nour parents. So what can poor parents tell their child about money? \\nThey simply say, “Stay in school and study hard.” The child may \\ngraduate with excellent grades, but with a poor person’s financial \\nprogramming and mindset.\\nSadly, money is not taught in schools. Schools focus on scholastic \\nand professional skills, but not on financial skills. This explains how \\nsmart bankers, doctors, and accountants who earned excellent grades \\nmay struggle financially all of their lives. Our staggering national debt \\nis due in large part to highly educated politicians and government \\nofficials making financial decisions with little or no training in the  \\nsubject of money.\"' metadata={'source': '/content/Rich-Dad-Poor-Dad.pdf', 'page': 16}\n",
            "-----------------------\n"
          ]
        }
      ]
    },
    {
      "cell_type": "markdown",
      "source": [
        "### Supporting Functions to print responses beautifully"
      ],
      "metadata": {
        "id": "9ZF1rK_sY5dY"
      }
    },
    {
      "cell_type": "code",
      "source": [
        "def print_resp_and_source(response):\n",
        "  \"\"\"Function to display the Source document and metadata\"\"\"\n",
        "  for res in range(len(response)):\n",
        "    print(f\"==> Content {res+1}: {response[res].page_content}\")\n",
        "    print(f\"==> Source {res+1}: {response[res].metadata}\")\n",
        "    print(\"--------------------------------------------------------------------------------------------------------\")"
      ],
      "metadata": {
        "id": "BEDB1491RZ0y"
      },
      "execution_count": 23,
      "outputs": []
    },
    {
      "cell_type": "code",
      "source": [
        "def print_source_relevance_score(response):\n",
        "  \"\"\"Function to display the Source document and metadata\"\"\"\n",
        "  for res in range(len(response)):\n",
        "      print(f\"==> Content {res+1}: {response[res][0].page_content}\")\n",
        "      print(f\"==> Source {res+1}: {response[res][0].metadata}\")\n",
        "      print(f\"==> Similarity Score :{round(response[res][1],2)} \")\n",
        "      print(\"--------------------------------------------------------------------------------------------------------\")"
      ],
      "metadata": {
        "id": "6Y9kmf5rV0JS"
      },
      "execution_count": 24,
      "outputs": []
    }
  ]
}